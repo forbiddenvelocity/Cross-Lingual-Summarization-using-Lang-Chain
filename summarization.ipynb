{
  "nbformat": 4,
  "nbformat_minor": 0,
  "metadata": {
    "colab": {
      "provenance": [],
      "gpuType": "T4",
      "authorship_tag": "ABX9TyN83xl1ez72QRL8AnJllyU2",
      "include_colab_link": true
    },
    "kernelspec": {
      "name": "python3",
      "display_name": "Python 3"
    },
    "language_info": {
      "name": "python"
    },
    "accelerator": "GPU"
  },
  "cells": [
    {
      "cell_type": "markdown",
      "metadata": {
        "id": "view-in-github",
        "colab_type": "text"
      },
      "source": [
        "<a href=\"https://colab.research.google.com/github/forbiddenvelocity/Cross-Lingual-Summarization-using-Lang-Chain/blob/main/summarization.ipynb\" target=\"_parent\"><img src=\"https://colab.research.google.com/assets/colab-badge.svg\" alt=\"Open In Colab\"/></a>"
      ]
    },
    {
      "cell_type": "code",
      "source": [
        "!pip install torch"
      ],
      "metadata": {
        "colab": {
          "base_uri": "https://localhost:8080/"
        },
        "id": "2p39Zlc7NsT9",
        "outputId": "4c9245e9-d91d-423a-eedf-04efe1eea594"
      },
      "execution_count": 1,
      "outputs": [
        {
          "output_type": "stream",
          "name": "stdout",
          "text": [
            "Requirement already satisfied: torch in /usr/local/lib/python3.10/dist-packages (2.3.0+cu121)\n",
            "Requirement already satisfied: filelock in /usr/local/lib/python3.10/dist-packages (from torch) (3.15.3)\n",
            "Requirement already satisfied: typing-extensions>=4.8.0 in /usr/local/lib/python3.10/dist-packages (from torch) (4.12.2)\n",
            "Requirement already satisfied: sympy in /usr/local/lib/python3.10/dist-packages (from torch) (1.12.1)\n",
            "Requirement already satisfied: networkx in /usr/local/lib/python3.10/dist-packages (from torch) (3.3)\n",
            "Requirement already satisfied: jinja2 in /usr/local/lib/python3.10/dist-packages (from torch) (3.1.4)\n",
            "Requirement already satisfied: fsspec in /usr/local/lib/python3.10/dist-packages (from torch) (2023.6.0)\n",
            "Requirement already satisfied: nvidia-cuda-nvrtc-cu12==12.1.105 in /usr/local/lib/python3.10/dist-packages (from torch) (12.1.105)\n",
            "Requirement already satisfied: nvidia-cuda-runtime-cu12==12.1.105 in /usr/local/lib/python3.10/dist-packages (from torch) (12.1.105)\n",
            "Requirement already satisfied: nvidia-cuda-cupti-cu12==12.1.105 in /usr/local/lib/python3.10/dist-packages (from torch) (12.1.105)\n",
            "Requirement already satisfied: nvidia-cudnn-cu12==8.9.2.26 in /usr/local/lib/python3.10/dist-packages (from torch) (8.9.2.26)\n",
            "Requirement already satisfied: nvidia-cublas-cu12==12.1.3.1 in /usr/local/lib/python3.10/dist-packages (from torch) (12.1.3.1)\n",
            "Requirement already satisfied: nvidia-cufft-cu12==11.0.2.54 in /usr/local/lib/python3.10/dist-packages (from torch) (11.0.2.54)\n",
            "Requirement already satisfied: nvidia-curand-cu12==10.3.2.106 in /usr/local/lib/python3.10/dist-packages (from torch) (10.3.2.106)\n",
            "Requirement already satisfied: nvidia-cusolver-cu12==11.4.5.107 in /usr/local/lib/python3.10/dist-packages (from torch) (11.4.5.107)\n",
            "Requirement already satisfied: nvidia-cusparse-cu12==12.1.0.106 in /usr/local/lib/python3.10/dist-packages (from torch) (12.1.0.106)\n",
            "Requirement already satisfied: nvidia-nccl-cu12==2.20.5 in /usr/local/lib/python3.10/dist-packages (from torch) (2.20.5)\n",
            "Requirement already satisfied: nvidia-nvtx-cu12==12.1.105 in /usr/local/lib/python3.10/dist-packages (from torch) (12.1.105)\n",
            "Requirement already satisfied: triton==2.3.0 in /usr/local/lib/python3.10/dist-packages (from torch) (2.3.0)\n",
            "Requirement already satisfied: nvidia-nvjitlink-cu12 in /usr/local/lib/python3.10/dist-packages (from nvidia-cusolver-cu12==11.4.5.107->torch) (12.5.40)\n",
            "Requirement already satisfied: MarkupSafe>=2.0 in /usr/local/lib/python3.10/dist-packages (from jinja2->torch) (2.1.5)\n",
            "Requirement already satisfied: mpmath<1.4.0,>=1.1.0 in /usr/local/lib/python3.10/dist-packages (from sympy->torch) (1.3.0)\n"
          ]
        }
      ]
    },
    {
      "cell_type": "code",
      "source": [
        "pip install transformers\n"
      ],
      "metadata": {
        "colab": {
          "base_uri": "https://localhost:8080/"
        },
        "id": "Uz6V7lmrmRPa",
        "outputId": "ad1c4df7-5df2-4692-d7ad-1069a3184df4",
        "collapsed": true
      },
      "execution_count": 2,
      "outputs": [
        {
          "output_type": "stream",
          "name": "stdout",
          "text": [
            "Requirement already satisfied: transformers in /usr/local/lib/python3.10/dist-packages (4.41.2)\n",
            "Requirement already satisfied: filelock in /usr/local/lib/python3.10/dist-packages (from transformers) (3.15.3)\n",
            "Requirement already satisfied: huggingface-hub<1.0,>=0.23.0 in /usr/local/lib/python3.10/dist-packages (from transformers) (0.23.4)\n",
            "Requirement already satisfied: numpy>=1.17 in /usr/local/lib/python3.10/dist-packages (from transformers) (1.25.2)\n",
            "Requirement already satisfied: packaging>=20.0 in /usr/local/lib/python3.10/dist-packages (from transformers) (24.1)\n",
            "Requirement already satisfied: pyyaml>=5.1 in /usr/local/lib/python3.10/dist-packages (from transformers) (6.0.1)\n",
            "Requirement already satisfied: regex!=2019.12.17 in /usr/local/lib/python3.10/dist-packages (from transformers) (2024.5.15)\n",
            "Requirement already satisfied: requests in /usr/local/lib/python3.10/dist-packages (from transformers) (2.31.0)\n",
            "Requirement already satisfied: tokenizers<0.20,>=0.19 in /usr/local/lib/python3.10/dist-packages (from transformers) (0.19.1)\n",
            "Requirement already satisfied: safetensors>=0.4.1 in /usr/local/lib/python3.10/dist-packages (from transformers) (0.4.3)\n",
            "Requirement already satisfied: tqdm>=4.27 in /usr/local/lib/python3.10/dist-packages (from transformers) (4.66.4)\n",
            "Requirement already satisfied: fsspec>=2023.5.0 in /usr/local/lib/python3.10/dist-packages (from huggingface-hub<1.0,>=0.23.0->transformers) (2023.6.0)\n",
            "Requirement already satisfied: typing-extensions>=3.7.4.3 in /usr/local/lib/python3.10/dist-packages (from huggingface-hub<1.0,>=0.23.0->transformers) (4.12.2)\n",
            "Requirement already satisfied: charset-normalizer<4,>=2 in /usr/local/lib/python3.10/dist-packages (from requests->transformers) (3.3.2)\n",
            "Requirement already satisfied: idna<4,>=2.5 in /usr/local/lib/python3.10/dist-packages (from requests->transformers) (3.7)\n",
            "Requirement already satisfied: urllib3<3,>=1.21.1 in /usr/local/lib/python3.10/dist-packages (from requests->transformers) (2.0.7)\n",
            "Requirement already satisfied: certifi>=2017.4.17 in /usr/local/lib/python3.10/dist-packages (from requests->transformers) (2024.6.2)\n"
          ]
        }
      ]
    },
    {
      "cell_type": "code",
      "source": [
        "import torch\n",
        "torch.cuda.is_available()"
      ],
      "metadata": {
        "colab": {
          "base_uri": "https://localhost:8080/"
        },
        "id": "2xVN276lPqIy",
        "outputId": "cd18209f-ba12-4064-edba-547cf92a777b"
      },
      "execution_count": 3,
      "outputs": [
        {
          "output_type": "execute_result",
          "data": {
            "text/plain": [
              "True"
            ]
          },
          "metadata": {},
          "execution_count": 3
        }
      ]
    },
    {
      "cell_type": "code",
      "source": [
        "from transformers import pipeline, AutoTokenizer\n",
        "import torch\n",
        "\n",
        "device = torch.device(\"cuda\" if torch.cuda.is_available() else \"cpu\")\n",
        "\n",
        "summarizer = pipeline(\"summarization\", model=\"facebook/bart-large-cnn\")\n",
        "\n",
        "translator = pipeline(\"translation_en_to_hi\", model=\"Helsinki-NLP/opus-mt-en-hi\")\n",
        "\n",
        "summarizer_tokenizer = AutoTokenizer.from_pretrained(\"facebook/bart-large-cnn\")\n",
        "translator_tokenizer = AutoTokenizer.from_pretrained(\"Helsinki-NLP/opus-mt-en-hi\")\n",
        "\n",
        "def split_text(text, tokenizer, max_tokens=512):\n",
        "    tokens = tokenizer.tokenize(text)\n",
        "    chunks = []\n",
        "\n",
        "    while len(tokens) > 0:\n",
        "        chunk_tokens = tokens[:max_tokens]\n",
        "        chunk = tokenizer.convert_tokens_to_string(chunk_tokens)\n",
        "        chunks.append(chunk)\n",
        "        tokens = tokens[max_tokens:]\n",
        "\n",
        "    return chunks\n",
        "\n",
        "def summarize_and_translate(text, summarizer, translator, summarizer_tokenizer, translator_tokenizer, max_tokens=512):\n",
        "    chunks = split_text(text, summarizer_tokenizer, max_tokens)\n",
        "    summaries = []\n",
        "\n",
        "    for chunk in chunks:\n",
        "        summary = summarizer(chunk, max_length=150, min_length=40, do_sample=False)\n",
        "        summaries.append(summary[0]['summary_text'])\n",
        "\n",
        "    final_summary = \" \".join(summaries)\n",
        "    translation = translator(final_summary)\n",
        "    translated_text = translation[0]['translation_text']\n",
        "\n",
        "    return final_summary, translated_text\n",
        "\n",
        "\n",
        "text = '''\n",
        "PETITIONER:\n",
        "THE COMMISSIONER OF AGRICULTURALINCOME-TAX\n",
        " Vs.\n",
        "RESPONDENT:\n",
        "THE CALVARY MOUNT ESTATES (PRIVATE)LTD.\n",
        "DATE OF\n",
        "\n",
        "JUDGMENT\n",
        ":\n",
        "15/12/1960\n",
        "BENCH:\n",
        "KAPUR, J.L.\n",
        "BENCH:\n",
        "KAPUR, J.L.\n",
        "HIDAYATULLAH, M.\n",
        "SHAH, J.C.\n",
        "CITATION:\n",
        " 1961 AIR 1099 1961 SCR (3) 285\n",
        "ACT:\n",
        "Agricultural Income Tax-Rubber Plantation-Expenditure on\n",
        "immature trees-Whether permissible deduction-Madras Plan-\n",
        "tations Agricultural Income-tax Act, 1955 (Mad. V of 1955),\n",
        "s. 5(e).\n",
        "HEADNOTE:\n",
        "The assessee owned an Estate of 590 acres out of which 235\n",
        "acres were occupied by immature non-bearing rubber trees,\n",
        "for the maintenance and upkeep of which the respondent\n",
        "claimed expenses from out of the income, which was allowed\n",
        "both by the Agricultural Income Tax Tribunal and the High\n",
        "Court. The appellant came up by special leave.\n",
        "Held, that the provisions of s. 5(e) of the Madras Planta-\n",
        "tions Agricultural Income Tax Act, 1955 (Mad. V of 1955),\n",
        "applicable to the present case, and those of s. 5(1) of the\n",
        "Travancore-Cochin Agricultural Income Tax Act, 1950 (Tr.\n",
        "Co. XXII of 1950) being the same, the judgment in Travancore\n",
        "Rubber & Tea Co. Ltd. v. The Commissioner of Agricultural\n",
        "Income-tax, Kerala, in which the question of deductibility\n",
        "of sums expended for purposes of forking, manuring etc. of\n",
        "immature rubber trees had been decided, will govern this\n",
        "case.\n",
        "Travancore Rubber & Tea Co. Ltd. v. The Commissioner of\n",
        "Agricultural Income-tax, Kerala, [1961] 3 S.C.R. 279,\n",
        "applied.\n",
        "JUDGMENT\n",
        ":\n",
        "CIVIL APPELLATE JURISDICTION: Civil Appeal No, 145 of 1960.\n",
        "Appeal by special leave from the judgment and order dated\n",
        "March 18, 1958, of the Kerala High Court in Tax Revision\n",
        "Case No. 12 of 1957.\n",
        "V.A. Seyid Muhamad and Sardar Bahadur, for the appellant.\n",
        "C.K. Daphtary, Solicitor-General of India, Thomas\n",
        "Vellapally, S. N. Andley, J. B. Dadachanji, Rameshwar Nath\n",
        "and P. L. Vohra, for the respondent.\n",
        "1960. December 15. The Judgment of the Court was delivered\n",
        "by\n",
        "286\n",
        "\n",
        "\n",
        "KAPUR, J.-This is an appeal by special leave against the\n",
        "judgment and order of the High Court of Kerala in Tax\n",
        "Revision No. 12 of 1957.\n",
        "The respondent who is the assessee owned an estate of 590\n",
        "acres in South Malabar district, now in Kerala State. Out\n",
        "of that area 85 acres were covered by Pepper, Arecanut,\n",
        "Paddy and Coconut cultivation while the rest i.e. 505 acres\n",
        "had rubber plantations upon it. Of that area 235 acres were\n",
        "occupied by immature non-bearing rubber trees and 270’ acres\n",
        "had mature rubber trees. The assessment relates to the year\n",
        "1955-56, the accounting year being the year ending March 31,\n",
        "1955. The respondent claimed from out of the income\n",
        "expenses relating to the maintenance and upkeep of immature\n",
        "non-bearing rubber trees. The Agricultural Income tax\n",
        "Tribunal held that the expenses incurred on the whole area\n",
        "under rubber plantations were deductible expenses and\n",
        "remanded the case for ascertaining the expenses incurred in\n",
        "forking and manuring of the \"non-bearing and immature\"\n",
        "rubber grown areas also. The appellant then preferred a\n",
        "revision application to the High Court under s. 54(1) of the\n",
        "Madras Plantations Agricultural Income Tax Act, 1955 (Mad.\n",
        "V of 1955). The High Court held that the amount spent on\n",
        "the upkeep and maintenance of immature rubber trees was a\n",
        "deductible expenditure under s. 5(e) of that Act which\n",
        "provides:\n",
        " S.5 \"Computation of agricultural income:\n",
        " The agricultural income of a person shall be\n",
        " computed after making the following\n",
        " deductions,\n",
        " namely:..............................\n",
        " :........... (e) any expenditure incurred in\n",
        " the previous year (not being in the nature of\n",
        " capital expenditure or personal expenses of\n",
        " the assessee) laid out or expended wholly and\n",
        " exclusively for the purpose of the\n",
        " plantation;\".\n",
        "The provisions of s. 5(e) of the Madras Act, applicable to\n",
        "the present case, are the same as those of s. 5(j) of the\n",
        "Travancore Cochin Agricultural Income Tax Act (Act XXII of\n",
        "1950). The only difference is in the last few words. In\n",
        "place of \"for the purpose of the plantation\" in the former,\n",
        "the words \"for the purpose of\n",
        "287\n",
        "deriving the agricultural income\" are used in the latter.\n",
        "If anything the words of the former Act are more favourable\n",
        "to the respondent.\n",
        "In Travancore Rubber and Tea Company Ltd. v. Commissioner of\n",
        "Agricultural Income Tax, Kerala (1), which was an assessment\n",
        "under the Travancore Cochin Act, we have decided the\n",
        "question of deductibility of sums expended for purposes of\n",
        "forking, manuring etc. of immature rubber trees. That judg-\n",
        "ment will govern this case also. This appeal therefore\n",
        "fails and is dismissed with costs in this court and the High\n",
        "Court.\n",
        "Appeal dismissed\n",
        " ___________________\n",
        "'''\n",
        "\n",
        "summarized_text, translated_text = summarize_and_translate(text, summarizer, translator, summarizer_tokenizer, translator_tokenizer)\n",
        "\n",
        "print(\"Summarized Text:\", summarized_text)\n",
        "#print(\"Translated Text:\", translated_text)\n",
        "\n",
        "lines = summarized_text.split('. ')\n",
        "for line in lines:\n",
        "    print(line)\n"
      ],
      "metadata": {
        "colab": {
          "base_uri": "https://localhost:8080/"
        },
        "id": "kxhZrEvDmW6u",
        "outputId": "810a8008-3938-4b2c-f822-5f1aa1258a70"
      },
      "execution_count": 7,
      "outputs": [
        {
          "output_type": "stream",
          "name": "stdout",
          "text": [
            "Summarized Text: The appellant came up by special leave. from the judgment and order dated March 18, 1958, of the Kerala. Court of Appeal. The question of deductibilityof sums expended for. purposes of forking, manuring etc. of immature rubber trees had been decided, will govern this. case. This is an appeal by special leave against thejudgment and order of the High Court of Kerala in Tax Revision No. 12 of 1957. The respondent who is the assessee owned an estate of 590 acres in South Malabar district, now in Kerala State. Of that area 235 acres wereoccupied by immature non-bearing rubber trees and 270’ acres had mature rubber trees. The High Court held that the amount spent on the upkeep and maintenance of immature rubber trees was a deductible expenditure under s. 5(e) of the Agricultural Income Tax Act, 1955. The provisions of s. 5(e) of the Madras Act, applicable to. the present case, are the same as those of. the Travancore Cochin Agricultural Income Tax Act (Act XXII of. 1950). The only difference is in the last few words.  wholly and exclusively for the purpose of the plantation;\".\n",
            "The appellant came up by special leave\n",
            "from the judgment and order dated March 18, 1958, of the Kerala\n",
            "Court of Appeal\n",
            "The question of deductibilityof sums expended for\n",
            "purposes of forking, manuring etc\n",
            "of immature rubber trees had been decided, will govern this\n",
            "case\n",
            "This is an appeal by special leave against thejudgment and order of the High Court of Kerala in Tax Revision No\n",
            "12 of 1957\n",
            "The respondent who is the assessee owned an estate of 590 acres in South Malabar district, now in Kerala State\n",
            "Of that area 235 acres wereoccupied by immature non-bearing rubber trees and 270’ acres had mature rubber trees\n",
            "The High Court held that the amount spent on the upkeep and maintenance of immature rubber trees was a deductible expenditure under s\n",
            "5(e) of the Agricultural Income Tax Act, 1955\n",
            "The provisions of s\n",
            "5(e) of the Madras Act, applicable to\n",
            "the present case, are the same as those of\n",
            "the Travancore Cochin Agricultural Income Tax Act (Act XXII of\n",
            "1950)\n",
            "The only difference is in the last few words\n",
            " wholly and exclusively for the purpose of the plantation;\".\n"
          ]
        }
      ]
    },
    {
      "cell_type": "markdown",
      "source": [
        "GPT 3.5 Turbo"
      ],
      "metadata": {
        "id": "x9tqqrlXo_ZI"
      }
    },
    {
      "cell_type": "code",
      "source": [],
      "metadata": {
        "id": "trRVLPUIpCCJ"
      },
      "execution_count": null,
      "outputs": []
    }
  ]
}